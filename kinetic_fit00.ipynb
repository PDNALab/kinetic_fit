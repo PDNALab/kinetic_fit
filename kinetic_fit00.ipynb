{
 "cells": [
  {
   "cell_type": "markdown",
   "metadata": {},
   "source": [
    "### <span style=\"color: #ffffff; font-family: monospace; font-size: 0.9em;\">Kinetic_fit00<br>\n",
    "This nootebook solve for $k_{1}$ to $k_{7}$ simultaneously using non-linear least squares fitting."
   ]
  },
  {
   "cell_type": "code",
   "execution_count": 1,
   "metadata": {},
   "outputs": [],
   "source": [
    "from scipy.optimize import minimize\n",
    "from matplotlib import pyplot as plt\n",
    "from scipy import stats\n",
    "import numpy as np\n",
    "import pandas as pd\n",
    "from IPython.display import display, Math"
   ]
  },
  {
   "cell_type": "markdown",
   "metadata": {},
   "source": [
    "<span style=\"color: #ffffff; font-family: monospace; font-size: 0.9em;\">Read and show raw data:"
   ]
  },
  {
   "cell_type": "code",
   "execution_count": 2,
   "metadata": {},
   "outputs": [
    {
     "data": {
      "text/html": [
       "<div>\n",
       "<style scoped>\n",
       "    .dataframe tbody tr th:only-of-type {\n",
       "        vertical-align: middle;\n",
       "    }\n",
       "\n",
       "    .dataframe tbody tr th {\n",
       "        vertical-align: top;\n",
       "    }\n",
       "\n",
       "    .dataframe thead th {\n",
       "        text-align: right;\n",
       "    }\n",
       "</style>\n",
       "<table border=\"1\" class=\"dataframe\">\n",
       "  <thead>\n",
       "    <tr style=\"text-align: right;\">\n",
       "      <th></th>\n",
       "      <th>Time (min)</th>\n",
       "      <th>A0</th>\n",
       "      <th>A1</th>\n",
       "      <th>A2</th>\n",
       "      <th>A3</th>\n",
       "      <th>A4</th>\n",
       "      <th>A5</th>\n",
       "      <th>A6</th>\n",
       "    </tr>\n",
       "  </thead>\n",
       "  <tbody>\n",
       "    <tr>\n",
       "      <th>0</th>\n",
       "      <td>0.00</td>\n",
       "      <td>10043.380</td>\n",
       "      <td>0.000</td>\n",
       "      <td>0.000</td>\n",
       "      <td>0.000</td>\n",
       "      <td>0.000</td>\n",
       "      <td>0.000</td>\n",
       "      <td>0.000</td>\n",
       "    </tr>\n",
       "    <tr>\n",
       "      <th>1</th>\n",
       "      <td>0.25</td>\n",
       "      <td>4934.811</td>\n",
       "      <td>1222.983</td>\n",
       "      <td>221.920</td>\n",
       "      <td>46.536</td>\n",
       "      <td>60.536</td>\n",
       "      <td>113.364</td>\n",
       "      <td>0.000</td>\n",
       "    </tr>\n",
       "    <tr>\n",
       "      <th>2</th>\n",
       "      <td>0.50</td>\n",
       "      <td>3293.933</td>\n",
       "      <td>1933.397</td>\n",
       "      <td>410.941</td>\n",
       "      <td>64.364</td>\n",
       "      <td>90.950</td>\n",
       "      <td>164.192</td>\n",
       "      <td>0.000</td>\n",
       "    </tr>\n",
       "    <tr>\n",
       "      <th>3</th>\n",
       "      <td>1.00</td>\n",
       "      <td>1665.397</td>\n",
       "      <td>2432.497</td>\n",
       "      <td>912.548</td>\n",
       "      <td>171.849</td>\n",
       "      <td>127.778</td>\n",
       "      <td>296.263</td>\n",
       "      <td>0.000</td>\n",
       "    </tr>\n",
       "    <tr>\n",
       "      <th>4</th>\n",
       "      <td>2.00</td>\n",
       "      <td>441.941</td>\n",
       "      <td>2123.841</td>\n",
       "      <td>1757.841</td>\n",
       "      <td>477.406</td>\n",
       "      <td>244.849</td>\n",
       "      <td>656.941</td>\n",
       "      <td>0.000</td>\n",
       "    </tr>\n",
       "    <tr>\n",
       "      <th>5</th>\n",
       "      <td>3.00</td>\n",
       "      <td>135.849</td>\n",
       "      <td>1345.255</td>\n",
       "      <td>2108.598</td>\n",
       "      <td>859.062</td>\n",
       "      <td>513.870</td>\n",
       "      <td>1120.184</td>\n",
       "      <td>79.021</td>\n",
       "    </tr>\n",
       "    <tr>\n",
       "      <th>6</th>\n",
       "      <td>4.00</td>\n",
       "      <td>79.192</td>\n",
       "      <td>892.719</td>\n",
       "      <td>1968.719</td>\n",
       "      <td>1056.941</td>\n",
       "      <td>597.991</td>\n",
       "      <td>1499.841</td>\n",
       "      <td>92.435</td>\n",
       "    </tr>\n",
       "    <tr>\n",
       "      <th>7</th>\n",
       "      <td>5.00</td>\n",
       "      <td>0.000</td>\n",
       "      <td>408.284</td>\n",
       "      <td>1520.255</td>\n",
       "      <td>1211.355</td>\n",
       "      <td>992.062</td>\n",
       "      <td>2555.497</td>\n",
       "      <td>163.920</td>\n",
       "    </tr>\n",
       "    <tr>\n",
       "      <th>8</th>\n",
       "      <td>10.00</td>\n",
       "      <td>0.000</td>\n",
       "      <td>0.000</td>\n",
       "      <td>222.849</td>\n",
       "      <td>608.941</td>\n",
       "      <td>758.598</td>\n",
       "      <td>2464.841</td>\n",
       "      <td>207.577</td>\n",
       "    </tr>\n",
       "  </tbody>\n",
       "</table>\n",
       "</div>"
      ],
      "text/plain": [
       "   Time (min)         A0        A1        A2        A3       A4        A5  \\\n",
       "0        0.00  10043.380     0.000     0.000     0.000    0.000     0.000   \n",
       "1        0.25   4934.811  1222.983   221.920    46.536   60.536   113.364   \n",
       "2        0.50   3293.933  1933.397   410.941    64.364   90.950   164.192   \n",
       "3        1.00   1665.397  2432.497   912.548   171.849  127.778   296.263   \n",
       "4        2.00    441.941  2123.841  1757.841   477.406  244.849   656.941   \n",
       "5        3.00    135.849  1345.255  2108.598   859.062  513.870  1120.184   \n",
       "6        4.00     79.192   892.719  1968.719  1056.941  597.991  1499.841   \n",
       "7        5.00      0.000   408.284  1520.255  1211.355  992.062  2555.497   \n",
       "8       10.00      0.000     0.000   222.849   608.941  758.598  2464.841   \n",
       "\n",
       "        A6  \n",
       "0    0.000  \n",
       "1    0.000  \n",
       "2    0.000  \n",
       "3    0.000  \n",
       "4    0.000  \n",
       "5   79.021  \n",
       "6   92.435  \n",
       "7  163.920  \n",
       "8  207.577  "
      ]
     },
     "execution_count": 2,
     "metadata": {},
     "output_type": "execute_result"
    }
   ],
   "source": [
    "df = pd.read_csv('kinetic_raw.csv')\n",
    "df"
   ]
  },
  {
   "cell_type": "markdown",
   "metadata": {},
   "source": [
    "#### <span style=\"color: #ffffff; font-family: monospace; font-size: 0.9em;\">Normalization (fraction of intermediate):<br>\n",
    "<span style=\"color: #ffffff; font-family: monospace; font-size: 0.9em;\">The following equation was used to normalize data as shown in Figure 1 C : https://doi.org/10.1016/j.cell.2011.05.010<br>\n",
    "$$ A_i(t) = \\frac{A_i(t)}{\\sum_{i=0}^{n} A_i(t)} $$"
   ]
  },
  {
   "cell_type": "code",
   "execution_count": 3,
   "metadata": {},
   "outputs": [
    {
     "data": {
      "text/html": [
       "<div>\n",
       "<style scoped>\n",
       "    .dataframe tbody tr th:only-of-type {\n",
       "        vertical-align: middle;\n",
       "    }\n",
       "\n",
       "    .dataframe tbody tr th {\n",
       "        vertical-align: top;\n",
       "    }\n",
       "\n",
       "    .dataframe thead th {\n",
       "        text-align: right;\n",
       "    }\n",
       "</style>\n",
       "<table border=\"1\" class=\"dataframe\">\n",
       "  <thead>\n",
       "    <tr style=\"text-align: right;\">\n",
       "      <th></th>\n",
       "      <th>Time (min)</th>\n",
       "      <th>A0</th>\n",
       "      <th>A1</th>\n",
       "      <th>A2</th>\n",
       "      <th>A3</th>\n",
       "      <th>A4</th>\n",
       "      <th>A5</th>\n",
       "      <th>A6</th>\n",
       "    </tr>\n",
       "  </thead>\n",
       "  <tbody>\n",
       "    <tr>\n",
       "      <th>0</th>\n",
       "      <td>0.00</td>\n",
       "      <td>1.000000</td>\n",
       "      <td>0.000000</td>\n",
       "      <td>0.000000</td>\n",
       "      <td>0.000000</td>\n",
       "      <td>0.000000</td>\n",
       "      <td>0.000000</td>\n",
       "      <td>0.000000</td>\n",
       "    </tr>\n",
       "    <tr>\n",
       "      <th>1</th>\n",
       "      <td>0.25</td>\n",
       "      <td>0.747682</td>\n",
       "      <td>0.185296</td>\n",
       "      <td>0.033623</td>\n",
       "      <td>0.007051</td>\n",
       "      <td>0.009172</td>\n",
       "      <td>0.017176</td>\n",
       "      <td>0.000000</td>\n",
       "    </tr>\n",
       "    <tr>\n",
       "      <th>2</th>\n",
       "      <td>0.50</td>\n",
       "      <td>0.552880</td>\n",
       "      <td>0.324517</td>\n",
       "      <td>0.068976</td>\n",
       "      <td>0.010803</td>\n",
       "      <td>0.015266</td>\n",
       "      <td>0.027559</td>\n",
       "      <td>0.000000</td>\n",
       "    </tr>\n",
       "    <tr>\n",
       "      <th>3</th>\n",
       "      <td>1.00</td>\n",
       "      <td>0.297056</td>\n",
       "      <td>0.433884</td>\n",
       "      <td>0.162771</td>\n",
       "      <td>0.030653</td>\n",
       "      <td>0.022792</td>\n",
       "      <td>0.052844</td>\n",
       "      <td>0.000000</td>\n",
       "    </tr>\n",
       "    <tr>\n",
       "      <th>4</th>\n",
       "      <td>2.00</td>\n",
       "      <td>0.077495</td>\n",
       "      <td>0.372419</td>\n",
       "      <td>0.308241</td>\n",
       "      <td>0.083714</td>\n",
       "      <td>0.042935</td>\n",
       "      <td>0.115196</td>\n",
       "      <td>0.000000</td>\n",
       "    </tr>\n",
       "    <tr>\n",
       "      <th>5</th>\n",
       "      <td>3.00</td>\n",
       "      <td>0.022047</td>\n",
       "      <td>0.218320</td>\n",
       "      <td>0.342203</td>\n",
       "      <td>0.139416</td>\n",
       "      <td>0.083396</td>\n",
       "      <td>0.181794</td>\n",
       "      <td>0.012824</td>\n",
       "    </tr>\n",
       "    <tr>\n",
       "      <th>6</th>\n",
       "      <td>4.00</td>\n",
       "      <td>0.012798</td>\n",
       "      <td>0.144270</td>\n",
       "      <td>0.318159</td>\n",
       "      <td>0.170809</td>\n",
       "      <td>0.096640</td>\n",
       "      <td>0.242385</td>\n",
       "      <td>0.014938</td>\n",
       "    </tr>\n",
       "    <tr>\n",
       "      <th>7</th>\n",
       "      <td>5.00</td>\n",
       "      <td>0.000000</td>\n",
       "      <td>0.059592</td>\n",
       "      <td>0.221891</td>\n",
       "      <td>0.176805</td>\n",
       "      <td>0.144798</td>\n",
       "      <td>0.372990</td>\n",
       "      <td>0.023925</td>\n",
       "    </tr>\n",
       "    <tr>\n",
       "      <th>8</th>\n",
       "      <td>10.00</td>\n",
       "      <td>0.000000</td>\n",
       "      <td>0.000000</td>\n",
       "      <td>0.052278</td>\n",
       "      <td>0.142850</td>\n",
       "      <td>0.177957</td>\n",
       "      <td>0.578220</td>\n",
       "      <td>0.048695</td>\n",
       "    </tr>\n",
       "  </tbody>\n",
       "</table>\n",
       "</div>"
      ],
      "text/plain": [
       "   Time (min)        A0        A1        A2        A3        A4        A5  \\\n",
       "0        0.00  1.000000  0.000000  0.000000  0.000000  0.000000  0.000000   \n",
       "1        0.25  0.747682  0.185296  0.033623  0.007051  0.009172  0.017176   \n",
       "2        0.50  0.552880  0.324517  0.068976  0.010803  0.015266  0.027559   \n",
       "3        1.00  0.297056  0.433884  0.162771  0.030653  0.022792  0.052844   \n",
       "4        2.00  0.077495  0.372419  0.308241  0.083714  0.042935  0.115196   \n",
       "5        3.00  0.022047  0.218320  0.342203  0.139416  0.083396  0.181794   \n",
       "6        4.00  0.012798  0.144270  0.318159  0.170809  0.096640  0.242385   \n",
       "7        5.00  0.000000  0.059592  0.221891  0.176805  0.144798  0.372990   \n",
       "8       10.00  0.000000  0.000000  0.052278  0.142850  0.177957  0.578220   \n",
       "\n",
       "         A6  \n",
       "0  0.000000  \n",
       "1  0.000000  \n",
       "2  0.000000  \n",
       "3  0.000000  \n",
       "4  0.000000  \n",
       "5  0.012824  \n",
       "6  0.014938  \n",
       "7  0.023925  \n",
       "8  0.048695  "
      ]
     },
     "execution_count": 3,
     "metadata": {},
     "output_type": "execute_result"
    }
   ],
   "source": [
    "df = pd.concat([df['Time (min)'],df.iloc[:,1:].div(df.iloc[:,1:].sum(axis=1), axis=0)], axis=1)\n",
    "df"
   ]
  },
  {
   "cell_type": "markdown",
   "metadata": {},
   "source": [
    "### <span style=\"color: #f2cf4a; font-family: monospace; font-size: 1em;\">Solving for k<sub>1</sub> ... k<sub>7</sub> using A0 ... A6\n",
    "<span style=\"color: #ffffff; font-family: monospace; font-size: 0.9em;\">Create a python function to calculate </span>$A_0$:\n",
    "$$ A_0(t) = e^{-k_1t} $$"
   ]
  },
  {
   "cell_type": "code",
   "execution_count": 4,
   "metadata": {},
   "outputs": [],
   "source": [
    "def A_0(t, k1, k2, k3, k4, k5, k6, k7):\n",
    "    return np.exp(-t*k1)"
   ]
  },
  {
   "cell_type": "markdown",
   "metadata": {},
   "source": [
    "<span style=\"color: #ffffff; font-family: monospace; font-size: 0.9em;\">Build python function mimicing the equation:\n",
    "$$ A_i(t) = \\prod_{j=1}^i k_j \\sum_{j=1}^{i+1} \\frac{e^{-k_jt}}{\\prod_{p=1,p\\neq j}^{i+1}(k_p-k_j)} \\qquad i=1...n $$"
   ]
  },
  {
   "cell_type": "code",
   "execution_count": 5,
   "metadata": {},
   "outputs": [],
   "source": [
    "def A_i(t, *k_values):\n",
    "    \"\"\"\n",
    "    Calculates A_i(t) for a given set of k values (k1, k2, ..., k_(i+1)).\n",
    "    Designed for use with scipy.optimize.curve_fit.\n",
    "\n",
    "    Args:\n",
    "        t: Time variable.\n",
    "        *k_values: Variable number of rate constants (k1, k2, ..., k_(i+1)).\n",
    "\n",
    "    Returns:\n",
    "        The value of A_i(t).\n",
    "        Returns np.nan if any two k values are equal to avoid division by zero.\n",
    "\n",
    "    Raises:\n",
    "        ValueError: If the number of k_values is less than 2.\n",
    "\n",
    "    \"\"\"\n",
    "\n",
    "\n",
    "    n = len(k_values)  # n=i in A_i\n",
    "\n",
    "    if not 2 <= n:\n",
    "        raise ValueError(\"The number of k_values must be higher than 2.\")\n",
    "\n",
    "    i = n - 1 \n",
    "\n",
    "    product_k = np.prod(k_values[:i])\n",
    "    sum_terms = 0\n",
    "\n",
    "    for j in range(i + 1):\n",
    "        numerator = np.exp(-k_values[j] * t)\n",
    "        denominator = 1\n",
    "        for p in range(i + 1):\n",
    "            if p != j:\n",
    "                denominator *= (k_values[p] - k_values[j])\n",
    "        # denominator = 1e-8 if abs(denominator) < 1e-8 else denominator # bypass dividing by zero\n",
    "        sum_terms += numerator / denominator\n",
    "\n",
    "    return product_k * sum_terms"
   ]
  },
  {
   "cell_type": "markdown",
   "metadata": {},
   "source": [
    "--------------"
   ]
  },
  {
   "cell_type": "code",
   "execution_count": 6,
   "metadata": {},
   "outputs": [],
   "source": [
    "t = df['Time (min)']\n",
    "A_ = [df['A0'], df['A1'], df['A2'], df['A3'], df['A4'], df['A5'], df['A6']]"
   ]
  },
  {
   "cell_type": "code",
   "execution_count": 7,
   "metadata": {},
   "outputs": [],
   "source": [
    "def A_1(t, k1, k2, k3, k4, k5, k6, k7):\n",
    "    return A_i(t, k1, k2)\n",
    "\n",
    "def A_2(t, k1, k2, k3, k4, k5, k6, k7):\n",
    "    return A_i(t, k1, k2, k3)\n",
    "\n",
    "def A_3(t, k1, k2, k3, k4, k5, k6, k7):\n",
    "    return A_i(t, k1, k2, k3, k4)\n",
    "\n",
    "def A_4(t, k1, k2, k3, k4, k5, k6, k7):\n",
    "    return A_i(t, k1, k2, k3, k4, k5)\n",
    "\n",
    "def A_5(t, k1, k2, k3, k4, k5, k6, k7):\n",
    "    return A_i(t, k1, k2, k3, k4, k5, k6)\n",
    "\n",
    "def A_6(t, k1, k2, k3, k4, k5, k6, k7):\n",
    "    return A_i(t, k1, k2, k3, k4, k5, k6, k7)\n",
    "\n",
    "functions = [A_0, A_1, A_2, A_3, A_4, A_5, A_6]"
   ]
  },
  {
   "cell_type": "code",
   "execution_count": 8,
   "metadata": {},
   "outputs": [
    {
     "data": {
      "text/latex": [
       "$\\displaystyle k_{1} = 1.123$"
      ],
      "text/plain": [
       "<IPython.core.display.Math object>"
      ]
     },
     "metadata": {},
     "output_type": "display_data"
    },
    {
     "data": {
      "text/latex": [
       "$\\displaystyle k_{2} = 0.700$"
      ],
      "text/plain": [
       "<IPython.core.display.Math object>"
      ]
     },
     "metadata": {},
     "output_type": "display_data"
    },
    {
     "data": {
      "text/latex": [
       "$\\displaystyle k_{3} = 0.538$"
      ],
      "text/plain": [
       "<IPython.core.display.Math object>"
      ]
     },
     "metadata": {},
     "output_type": "display_data"
    },
    {
     "data": {
      "text/latex": [
       "$\\displaystyle k_{4} = 0.980$"
      ],
      "text/plain": [
       "<IPython.core.display.Math object>"
      ]
     },
     "metadata": {},
     "output_type": "display_data"
    },
    {
     "data": {
      "text/latex": [
       "$\\displaystyle k_{5} = 1.325$"
      ],
      "text/plain": [
       "<IPython.core.display.Math object>"
      ]
     },
     "metadata": {},
     "output_type": "display_data"
    },
    {
     "data": {
      "text/latex": [
       "$\\displaystyle k_{6} = 0.102$"
      ],
      "text/plain": [
       "<IPython.core.display.Math object>"
      ]
     },
     "metadata": {},
     "output_type": "display_data"
    },
    {
     "data": {
      "text/latex": [
       "$\\displaystyle k_{7} = 1.196$"
      ],
      "text/plain": [
       "<IPython.core.display.Math object>"
      ]
     },
     "metadata": {},
     "output_type": "display_data"
    }
   ],
   "source": [
    "# Objective function for minimization (sum of squared residuals for all functions)\n",
    "def objective_function(params):\n",
    "    \"\"\"Calculates the sum of squared residuals for all functions.\"\"\"\n",
    "    residuals = []\n",
    "    for A, func in zip(A_, functions):\n",
    "        residuals.extend(A - func(t, *params)) #extend the list of all residuals so the function finds best parameters\n",
    "    return np.sum(np.array(residuals)**2)\n",
    "\n",
    "# Initial guess for shared parameters from recursive method\n",
    "initial_guess = [1.2065, 0.7285, 0.5515, 0.9445, 1.0465, 0.1015, 1.1875]\n",
    "\n",
    "# Fitting\n",
    "result = minimize(objective_function, initial_guess)\n",
    "parms = result.x\n",
    "\n",
    "for i in range(len(parms)):\n",
    "    display(Math(f'k_{{{i+1}}} = {parms[i]:.3f}'))"
   ]
  },
  {
   "cell_type": "markdown",
   "metadata": {},
   "source": [
    "<span style=\"color: #ffffff; font-family: monospace; font-size: 0.9em;\">Plot fitted parameters:"
   ]
  },
  {
   "cell_type": "code",
   "execution_count": 9,
   "metadata": {},
   "outputs": [
    {
     "data": {
      "image/png": "[encoded data removed]",
      "text/plain": [
       "<Figure size 800x500 with 1 Axes>"
      ]
     },
     "metadata": {},
     "output_type": "display_data"
    }
   ],
   "source": [
    "fig, ax = plt.subplots(figsize=(8,5))\n",
    "colors = [\"#1f77b4\", \"#ff7f0e\", \"#2ca02c\", \"#d62728\", \"#9467bd\", \"#8c564b\", \"#e377c2\", \"#7f7f7f\", \"#bcbd22\", \"#17becf\"]\n",
    "labels = ['A0','A1', 'A2', 'A3','A4', 'A5', 'A6']\n",
    "\n",
    "for A, func, color, label in zip(A_, functions, colors, labels):\n",
    "    ax.scatter(t, A, label=label, color=color)\n",
    "    ax.plot(np.arange(0,10,0.05), func(np.arange(0,10,0.05), *parms), '--', color=color)\n",
    "\n",
    "textstr = '\\n'.join([f'$k_{{{i+1}}} = {val:.3f}$' for i, val in enumerate(parms)])  \n",
    "props = dict(boxstyle='square', facecolor='oldlace', alpha=0.8)  \n",
    "ax.text(1.03, 0.72, textstr, transform=ax.transAxes, fontsize=15, verticalalignment='top', bbox=props)\n",
    "\n",
    "ax.set_xlabel(\"Time (min)\", fontsize=15)\n",
    "ax.set_ylabel(r'${A_i(t)}\\,/\\,{\\sum_{i=0}^{n} A_i(t)}$', fontsize=15)\n",
    "ax.legend(ncol=4, fontsize=14)\n",
    "ax.grid(True)\n",
    "plt.tight_layout()\n",
    "plt.show()"
   ]
  }
 ],
 "metadata": {
  "kernelspec": {
   "display_name": "p2",
   "language": "python",
   "name": "python3"
  },
  "language_info": {
   "codemirror_mode": {
    "name": "ipython",
    "version": 3
   },
   "file_extension": ".py",
   "mimetype": "text/x-python",
   "name": "python",
   "nbconvert_exporter": "python",
   "pygments_lexer": "ipython3",
   "version": "3.10.14"
  }
 },
 "nbformat": 4,
 "nbformat_minor": 2
}
