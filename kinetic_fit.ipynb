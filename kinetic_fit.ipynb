{
 "cells": [
  {
   "cell_type": "code",
   "execution_count": 1,
   "metadata": {},
   "outputs": [],
   "source": [
    "from scipy.optimize import curve_fit\n",
    "import numpy as np\n",
    "import pandas as pd"
   ]
  },
  {
   "cell_type": "code",
   "execution_count": 2,
   "metadata": {},
   "outputs": [],
   "source": [
    "def kinetc_fn(t, *k):\n",
    "    '''\n",
    "    Given rate constants 'k_1' to 'k_n' at time 't',\n",
    "    returns A_(n-1)\n",
    "    '''\n",
    "    n = len(k) # the number of k(parameters) given in\n",
    "    A = 1.0\n",
    "    for j in range(1, n):\n",
    "        x1 = 0.0\n",
    "        for i in range(1, n+1):\n",
    "            x0 = np.prod([k[p-1]-k[i-1] for p in range(1, n+1) if p != i])\n",
    "            x1 += np.exp(-k[i-1]*t/x0)\n",
    "        A *= k[j-1]*x1   \n",
    "    return A"
   ]
  },
  {
   "cell_type": "code",
   "execution_count": 3,
   "metadata": {},
   "outputs": [
    {
     "data": {
      "text/html": [
       "<div>\n",
       "<style scoped>\n",
       "    .dataframe tbody tr th:only-of-type {\n",
       "        vertical-align: middle;\n",
       "    }\n",
       "\n",
       "    .dataframe tbody tr th {\n",
       "        vertical-align: top;\n",
       "    }\n",
       "\n",
       "    .dataframe thead th {\n",
       "        text-align: right;\n",
       "    }\n",
       "</style>\n",
       "<table border=\"1\" class=\"dataframe\">\n",
       "  <thead>\n",
       "    <tr style=\"text-align: right;\">\n",
       "      <th></th>\n",
       "      <th>Time (min)</th>\n",
       "      <th>A0</th>\n",
       "      <th>A1</th>\n",
       "      <th>A2</th>\n",
       "      <th>A3</th>\n",
       "      <th>A4</th>\n",
       "      <th>A5</th>\n",
       "      <th>A6</th>\n",
       "    </tr>\n",
       "  </thead>\n",
       "  <tbody>\n",
       "    <tr>\n",
       "      <th>0</th>\n",
       "      <td>0.00</td>\n",
       "      <td>10043.380</td>\n",
       "      <td>0.000</td>\n",
       "      <td>0.000</td>\n",
       "      <td>0.000</td>\n",
       "      <td>0.000</td>\n",
       "      <td>0.000</td>\n",
       "      <td>0.000</td>\n",
       "    </tr>\n",
       "    <tr>\n",
       "      <th>1</th>\n",
       "      <td>0.25</td>\n",
       "      <td>4934.811</td>\n",
       "      <td>1222.983</td>\n",
       "      <td>221.920</td>\n",
       "      <td>46.536</td>\n",
       "      <td>60.536</td>\n",
       "      <td>113.364</td>\n",
       "      <td>0.000</td>\n",
       "    </tr>\n",
       "    <tr>\n",
       "      <th>2</th>\n",
       "      <td>0.50</td>\n",
       "      <td>3293.933</td>\n",
       "      <td>1933.397</td>\n",
       "      <td>410.941</td>\n",
       "      <td>64.364</td>\n",
       "      <td>90.950</td>\n",
       "      <td>164.192</td>\n",
       "      <td>0.000</td>\n",
       "    </tr>\n",
       "    <tr>\n",
       "      <th>3</th>\n",
       "      <td>1.00</td>\n",
       "      <td>1665.397</td>\n",
       "      <td>2432.497</td>\n",
       "      <td>912.548</td>\n",
       "      <td>171.849</td>\n",
       "      <td>127.778</td>\n",
       "      <td>296.263</td>\n",
       "      <td>0.000</td>\n",
       "    </tr>\n",
       "    <tr>\n",
       "      <th>4</th>\n",
       "      <td>2.00</td>\n",
       "      <td>441.941</td>\n",
       "      <td>2123.841</td>\n",
       "      <td>1757.841</td>\n",
       "      <td>477.406</td>\n",
       "      <td>244.849</td>\n",
       "      <td>656.941</td>\n",
       "      <td>0.000</td>\n",
       "    </tr>\n",
       "    <tr>\n",
       "      <th>5</th>\n",
       "      <td>3.00</td>\n",
       "      <td>135.849</td>\n",
       "      <td>1345.255</td>\n",
       "      <td>2108.598</td>\n",
       "      <td>859.062</td>\n",
       "      <td>513.870</td>\n",
       "      <td>1120.184</td>\n",
       "      <td>79.021</td>\n",
       "    </tr>\n",
       "    <tr>\n",
       "      <th>6</th>\n",
       "      <td>4.00</td>\n",
       "      <td>79.192</td>\n",
       "      <td>892.719</td>\n",
       "      <td>1968.719</td>\n",
       "      <td>1056.941</td>\n",
       "      <td>597.991</td>\n",
       "      <td>1499.841</td>\n",
       "      <td>92.435</td>\n",
       "    </tr>\n",
       "    <tr>\n",
       "      <th>7</th>\n",
       "      <td>5.00</td>\n",
       "      <td>0.000</td>\n",
       "      <td>408.284</td>\n",
       "      <td>1520.255</td>\n",
       "      <td>1211.355</td>\n",
       "      <td>992.062</td>\n",
       "      <td>2555.497</td>\n",
       "      <td>163.920</td>\n",
       "    </tr>\n",
       "    <tr>\n",
       "      <th>8</th>\n",
       "      <td>10.00</td>\n",
       "      <td>0.000</td>\n",
       "      <td>0.000</td>\n",
       "      <td>222.849</td>\n",
       "      <td>608.941</td>\n",
       "      <td>758.598</td>\n",
       "      <td>2464.841</td>\n",
       "      <td>207.577</td>\n",
       "    </tr>\n",
       "  </tbody>\n",
       "</table>\n",
       "</div>"
      ],
      "text/plain": [
       "   Time (min)         A0        A1        A2        A3       A4        A5  \\\n",
       "0        0.00  10043.380     0.000     0.000     0.000    0.000     0.000   \n",
       "1        0.25   4934.811  1222.983   221.920    46.536   60.536   113.364   \n",
       "2        0.50   3293.933  1933.397   410.941    64.364   90.950   164.192   \n",
       "3        1.00   1665.397  2432.497   912.548   171.849  127.778   296.263   \n",
       "4        2.00    441.941  2123.841  1757.841   477.406  244.849   656.941   \n",
       "5        3.00    135.849  1345.255  2108.598   859.062  513.870  1120.184   \n",
       "6        4.00     79.192   892.719  1968.719  1056.941  597.991  1499.841   \n",
       "7        5.00      0.000   408.284  1520.255  1211.355  992.062  2555.497   \n",
       "8       10.00      0.000     0.000   222.849   608.941  758.598  2464.841   \n",
       "\n",
       "        A6  \n",
       "0    0.000  \n",
       "1    0.000  \n",
       "2    0.000  \n",
       "3    0.000  \n",
       "4    0.000  \n",
       "5   79.021  \n",
       "6   92.435  \n",
       "7  163.920  \n",
       "8  207.577  "
      ]
     },
     "execution_count": 3,
     "metadata": {},
     "output_type": "execute_result"
    }
   ],
   "source": [
    "df = pd.read_csv('kinetic_raw.csv')\n",
    "df"
   ]
  },
  {
   "cell_type": "code",
   "execution_count": 4,
   "metadata": {},
   "outputs": [
    {
     "data": {
      "text/plain": [
       "157229.61502494832"
      ]
     },
     "execution_count": 4,
     "metadata": {},
     "output_type": "execute_result"
    }
   ],
   "source": [
    "kinetc_fn(1,2,3,4,5,6)"
   ]
  },
  {
   "cell_type": "markdown",
   "metadata": {},
   "source": [
    "### <span style=\"color: #f2cf4a; font-family: monospace; font-size: 1em;\">1. Solving for k<sub>1</sub>"
   ]
  },
  {
   "cell_type": "code",
   "execution_count": 10,
   "metadata": {},
   "outputs": [
    {
     "data": {
      "text/plain": [
       "0         -inf\n",
       "1   -34.016279\n",
       "2   -16.199675\n",
       "3    -7.417819\n",
       "4    -3.045588\n",
       "5    -1.637181\n",
       "6    -1.092969\n",
       "dtype: float64"
      ]
     },
     "execution_count": 10,
     "metadata": {},
     "output_type": "execute_result"
    }
   ],
   "source": [
    "A0 = df['A0'][:-2] # read only non-zero A0\n",
    "t = df['Time (min)'][:-2]\n",
    "\n",
    "k_1 = np.log(A0)/(-t)\n",
    "k_1"
   ]
  },
  {
   "cell_type": "code",
   "execution_count": null,
   "metadata": {},
   "outputs": [],
   "source": []
  },
  {
   "cell_type": "code",
   "execution_count": 14,
   "metadata": {},
   "outputs": [
    {
     "data": {
      "text/plain": [
       "[<matplotlib.lines.Line2D at 0x1371584f0>]"
      ]
     },
     "execution_count": 14,
     "metadata": {},
     "output_type": "execute_result"
    },
    {
     "data": {
      "image/png": "[encoded data removed]",
      "text/plain": [
       "<Figure size 640x480 with 1 Axes>"
      ]
     },
     "metadata": {},
     "output_type": "display_data"
    }
   ],
   "source": [
    "from matplotlib import pyplot as plt\n",
    "\n",
    "# plt.plot(df['A0'])\n",
    "plt.plot(np.log(df['A0']),'r')"
   ]
  },
  {
   "cell_type": "code",
   "execution_count": 5,
   "metadata": {},
   "outputs": [
    {
     "ename": "SyntaxError",
     "evalue": "invalid syntax (3902311545.py, line 1)",
     "output_type": "error",
     "traceback": [
      "\u001b[0;36m  Cell \u001b[0;32mIn[5], line 1\u001b[0;36m\u001b[0m\n\u001b[0;31m    popt, pcov = curve_fit(kinetc_fn, xdata=, ydata=, p0=None) # if known give P0 (initial guesses)\u001b[0m\n\u001b[0m                                            ^\u001b[0m\n\u001b[0;31mSyntaxError\u001b[0m\u001b[0;31m:\u001b[0m invalid syntax\n"
     ]
    }
   ],
   "source": [
    "popt, pcov = curve_fit(kinetc_fn, xdata=, ydata=, p0=None) # if known give P0 (initial guesses)"
   ]
  }
 ],
 "metadata": {
  "kernelspec": {
   "display_name": "p2",
   "language": "python",
   "name": "python3"
  },
  "language_info": {
   "codemirror_mode": {
    "name": "ipython",
    "version": 3
   },
   "file_extension": ".py",
   "mimetype": "text/x-python",
   "name": "python",
   "nbconvert_exporter": "python",
   "pygments_lexer": "ipython3",
   "version": "3.10.14"
  }
 },
 "nbformat": 4,
 "nbformat_minor": 2
}
