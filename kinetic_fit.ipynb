{
 "cells": [
  {
   "cell_type": "code",
   "execution_count": 1,
   "metadata": {},
   "outputs": [],
   "source": [
    "import scipy\n",
    "import numpy as np"
   ]
  },
  {
   "cell_type": "code",
   "execution_count": null,
   "metadata": {},
   "outputs": [],
   "source": [
    "def kinetc_fn(t, *k):\n",
    "    '''\n",
    "    Given rate constants 'k_1' to 'k_n' at time 't',\n",
    "    returns A_(n-1)\n",
    "    '''\n",
    "    n = len(k) # the number of k(parameters) given in\n",
    "    A = 1.0\n",
    "    for j in range(1, n):\n",
    "        x1 = 0.0\n",
    "        for i in range(1, n+1):\n",
    "            x0 = np.prod([k[p-1]-k[i-1] for p in range(1, n+1) if p != i])\n",
    "            x1 += np.exp(-k[i-1]*t/x0)\n",
    "        A *= k[j-1]*x1   \n",
    "    return A"
   ]
  },
  {
   "cell_type": "code",
   "execution_count": 16,
   "metadata": {},
   "outputs": [
    {
     "data": {
      "text/plain": [
       "157229.61502494832"
      ]
     },
     "execution_count": 16,
     "metadata": {},
     "output_type": "execute_result"
    }
   ],
   "source": [
    "kinetc_fn(1,2,3,4,5,6)"
   ]
  },
  {
   "cell_type": "code",
   "execution_count": null,
   "metadata": {},
   "outputs": [],
   "source": []
  }
 ],
 "metadata": {
  "kernelspec": {
   "display_name": "p2",
   "language": "python",
   "name": "python3"
  },
  "language_info": {
   "codemirror_mode": {
    "name": "ipython",
    "version": 3
   },
   "file_extension": ".py",
   "mimetype": "text/x-python",
   "name": "python",
   "nbconvert_exporter": "python",
   "pygments_lexer": "ipython3",
   "version": "3.10.14"
  }
 },
 "nbformat": 4,
 "nbformat_minor": 2
}
